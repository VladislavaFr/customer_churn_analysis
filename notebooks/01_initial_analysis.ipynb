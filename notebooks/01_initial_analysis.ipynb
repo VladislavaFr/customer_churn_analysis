# Анализ данных по оттоку клиентов

import pandas as pd

# Загрузка данных
df = pd.read_csv('../data/processed/clients_churn.csv')

# Просмотр первых строк
print("Первые 5 строк:")
print(df.head())

# Общая информация
print("\nИнформация о таблице:")
print(df.info())

# Проверка на пропуски
print("\nКоличество пропущенных значений:")
print(df.isnull().sum())

# Статистика по числовым столбцам
print("\nСтатистика по числовым признакам:")
print(df.describe())

# Уникальные значения в столбце 'city'
print("\nУникальные города:")
print(df['city'].unique())

# Распределение по оттоку (churn)
print("\nРаспределение по оттоку:")
print(df['churn'].value_counts(normalize=True))

# Средний балл по городам
print("\nСредний балл (score) по городам:")
print(df.groupby('city')['score'].mean())